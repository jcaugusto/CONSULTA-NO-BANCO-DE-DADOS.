{
 "cells": [
  {
   "cell_type": "markdown",
   "id": "d776ab15",
   "metadata": {},
   "source": [
    "crie um progrma para fazer uma consulta de vendas.o usúario do programa deve inserir o nome do programa é,caso ele não exista na lista, ele será avisado. caso ele exista , o program deve a quantidade de unidades em estoque do produto."
   ]
  },
  {
   "cell_type": "markdown",
   "id": "982d8059",
   "metadata": {},
   "source": [
    "pequeno banco de dados!"
   ]
  },
  {
   "cell_type": "code",
   "execution_count": 1,
   "id": "e491944d",
   "metadata": {},
   "outputs": [],
   "source": [
    "produtos = ('tv', 'celular', 'tablet', 'mouse', 'teclado', 'geladeira', 'forno')\n",
    "estoque = (100, 150, 100, 120, 70, 180, 80)"
   ]
  },
  {
   "cell_type": "code",
   "execution_count": null,
   "id": "46af8008",
   "metadata": {},
   "outputs": [],
   "source": [
    "produto = input('insira o nome do produto em letras minusculas')\n",
    "if produto in produtos:\n",
    "    i = produtos.index(produto)\n",
    "    qtda_estoque = estoque[i]\n",
    "    print('temos {:>2} unidades de {:>2} no estoque'.format(qtda_estoque, produto))\n",
    "else:\n",
    "    print('{} produto não existe em estoque'.format(produto))"
   ]
  }
 ],
 "metadata": {
  "kernelspec": {
   "display_name": "Python 3 (ipykernel)",
   "language": "python",
   "name": "python3"
  },
  "language_info": {
   "codemirror_mode": {
    "name": "ipython",
    "version": 3
   },
   "file_extension": ".py",
   "mimetype": "text/x-python",
   "name": "python",
   "nbconvert_exporter": "python",
   "pygments_lexer": "ipython3",
   "version": "3.9.12"
  }
 },
 "nbformat": 4,
 "nbformat_minor": 5
}
